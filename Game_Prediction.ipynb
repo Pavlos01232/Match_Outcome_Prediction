{
  "nbformat": 4,
  "nbformat_minor": 0,
  "metadata": {
    "colab": {
      "provenance": [],
      "authorship_tag": "ABX9TyNdj08zDbb8ifZ0gToQ8d7r",
      "include_colab_link": true
    },
    "kernelspec": {
      "name": "python3",
      "display_name": "Python 3"
    },
    "language_info": {
      "name": "python"
    }
  },
  "cells": [
    {
      "cell_type": "markdown",
      "metadata": {
        "id": "view-in-github",
        "colab_type": "text"
      },
      "source": [
        "<a href=\"https://colab.research.google.com/github/Pavlos01232/Match_Outcome_Prediction/blob/main/Game_Prediction.ipynb\" target=\"_parent\"><img src=\"https://colab.research.google.com/assets/colab-badge.svg\" alt=\"Open In Colab\"/></a>"
      ]
    },
    {
      "cell_type": "code",
      "execution_count": 56,
      "metadata": {
        "colab": {
          "base_uri": "https://localhost:8080/",
          "height": 280
        },
        "id": "QzVKKLMBRPxZ",
        "outputId": "fba5c26c-057b-4db5-f16a-92819bb3560e"
      },
      "outputs": [
        {
          "output_type": "stream",
          "name": "stdout",
          "text": [
            "beep boop\n",
            "Aston Villa loses\n",
            "=============================================================\n",
            "381\n"
          ]
        },
        {
          "output_type": "error",
          "ename": "IndexError",
          "evalue": "index 763 is out of bounds for axis 0 with size 381",
          "traceback": [
            "\u001b[0;31m---------------------------------------------------------------------------\u001b[0m",
            "\u001b[0;31mIndexError\u001b[0m                                Traceback (most recent call last)",
            "\u001b[0;32m<ipython-input-56-b05f439ae924>\u001b[0m in \u001b[0;36m<cell line: 41>\u001b[0;34m()\u001b[0m\n\u001b[1;32m     45\u001b[0m   \u001b[0mdf2\u001b[0m\u001b[0;34m=\u001b[0m\u001b[0mpd\u001b[0m\u001b[0;34m.\u001b[0m\u001b[0mconcat\u001b[0m\u001b[0;34m(\u001b[0m\u001b[0;34m[\u001b[0m\u001b[0mdf2\u001b[0m\u001b[0;34m,\u001b[0m \u001b[0mx\u001b[0m\u001b[0;34m]\u001b[0m\u001b[0;34m)\u001b[0m\u001b[0;34m\u001b[0m\u001b[0;34m\u001b[0m\u001b[0m\n\u001b[1;32m     46\u001b[0m   \u001b[0mprint\u001b[0m\u001b[0;34m(\u001b[0m\u001b[0mlen\u001b[0m\u001b[0;34m(\u001b[0m\u001b[0mdf2\u001b[0m\u001b[0;34m.\u001b[0m\u001b[0mvalues\u001b[0m\u001b[0;34m)\u001b[0m\u001b[0;34m)\u001b[0m\u001b[0;34m\u001b[0m\u001b[0;34m\u001b[0m\u001b[0m\n\u001b[0;32m---> 47\u001b[0;31m   \u001b[0mprint\u001b[0m\u001b[0;34m(\u001b[0m\u001b[0mdf2\u001b[0m\u001b[0;34m.\u001b[0m\u001b[0mvalues\u001b[0m\u001b[0;34m[\u001b[0m\u001b[0;36m763\u001b[0m\u001b[0;34m]\u001b[0m\u001b[0;34m[\u001b[0m\u001b[0;36m0\u001b[0m\u001b[0;34m]\u001b[0m\u001b[0;34m)\u001b[0m\u001b[0;34m\u001b[0m\u001b[0;34m\u001b[0m\u001b[0m\n\u001b[0m\u001b[1;32m     48\u001b[0m   \u001b[0;31m#tensor = t.tensor(df.values)\u001b[0m\u001b[0;34m\u001b[0m\u001b[0;34m\u001b[0m\u001b[0m\n\u001b[1;32m     49\u001b[0m   \u001b[0;31m#print(tensor)\u001b[0m\u001b[0;34m\u001b[0m\u001b[0;34m\u001b[0m\u001b[0m\n",
            "\u001b[0;31mIndexError\u001b[0m: index 763 is out of bounds for axis 0 with size 381"
          ]
        }
      ],
      "source": [
        "\n",
        "import torch as t\n",
        "import torch.nn as n\n",
        "import pandas as pd\n",
        "import os\n",
        "\n",
        "print(\"beep boop\")\n",
        "print(\"Aston Villa loses\")\n",
        "print(\"=============================================================\")\n",
        "#GITHUB LOCATION:\n",
        "#https://github.com/Pavlos01232/Match_Outcome_Prediction\n",
        "#\n",
        "#\n",
        "#\n",
        "#\n",
        "#\n",
        "#\n",
        "#\n",
        "\n",
        "\n",
        "\n",
        "\n",
        "#pd.read_csv('https://raw.githubusercontent.com/Pavlos01232/Match_Outcome_Prediction/main/TRAINING%20DATA/PL0304.csv?raw=true')\n",
        "\n",
        "\n",
        "#\"DEEP learning\" just means \"hidden\" layers\n",
        "\n",
        "\n",
        "\n",
        "#read function\n",
        "#df = pd.read_csv('https://raw.githubusercontent.com/Pavlos01232/Match_Outcome_Prediction/main/TRAINING%20DATA/PL0405.csv?raw=true',sep='\\t', lineterminator='\\r')\n",
        "#print(df)\n",
        "\n",
        "first = \"https://raw.githubusercontent.com/Pavlos01232/Match_Outcome_Prediction/main/TRAINING%20DATA/PL\"\n",
        "last = \".csv?raw=true\"\n",
        "#3 to 23\n",
        "#the first two files in the training data are formatted incorrectly\n",
        "#convert csv to dataframe\n",
        "df=[0]*100000\n",
        "df2=pd.DataFrame()\n",
        "i=5\n",
        "for i in range(5, 23):\n",
        "  result = first + str('{:02.0f}'.format(i)) + str('{:02.0f}'.format(i+1)) + last\n",
        "  #print(result)\n",
        "  x = pd.read_csv(result, sep='\\t', encoding = 'unicode_escape', lineterminator='\\r')\n",
        "  df2=pd.concat([df2, x])\n",
        "  print(len(df2.values))\n",
        "  #tensor = t.tensor(df.values)\n",
        "  #print(tensor)\n",
        "  #df_to_tensor(pd.read_csv(result, sep='\\t', encoding = 'unicode_escape', lineterminator='\\r'))\n",
        "\n",
        "print(len(df2.values))\n",
        "print(df2.values[1][0])\n",
        "print(df2.values[7][0])\n",
        "print(df2.values[760][0])\n",
        "print(df2.values[762][0])\n",
        "print(df2.values[763][0])\n",
        "matches=[]\n",
        "for i in range(1,len(df2.values)):\n",
        "  #print(df2.values[1][0])\n",
        "  #print(i)\n",
        "  matches.append(df2.values[i][0].split(\",\"))\n",
        "\n",
        "\n",
        "#print (df[5].values[3][0].split(\",\")[2])\n",
        "#print (df[5].values[3][0].split(\",\")[3])\n",
        "teams=[]\n",
        "for i in range(1, len(matches)):\n",
        "  found=False\n",
        "  for j in range(len(teams)):\n",
        "    if matches[i][3] == teams[j]:\n",
        "      found=True\n",
        "      break\n",
        "  if found:\n",
        "    continue\n",
        "  teams.append(matches[i][3])\n",
        "\n",
        "print(teams)\n",
        "\n",
        "print(df[5])\n",
        "print(df2)\n",
        "print(len(matches))\n",
        "print(len(df2))\n",
        "print(matches[12][2])\n",
        "\n",
        "#df.to_csv(r'C:\\Users\\Pavlos\\Desktop\\export_dataframe.csv', sep='\\t', encoding='utf-8')\n",
        "#print (df[2])\n",
        "#file_list = os.listdir('https://raw.githubusercontent.com/Pavlos01232/Match_Outcome_Prediction/main/TRAINING%20DATA/')\n",
        "\n",
        "\n",
        "\n",
        "\n",
        "\n",
        "print(\"=============================================================\")\n",
        "\n",
        "i=5\n",
        "\n",
        "stats=t.tensor(i)\n",
        "\n",
        "#stats[0]=5\n",
        "#stats[1]=2\n",
        "#stats[2]=8\n",
        "#stats[3]=4\n",
        "#stats[4]=8\n",
        "#stats[5]=3\n",
        "\n",
        "print(stats)\n",
        "\n",
        "t.cuda.memory_allocated(0)/1024**3"
      ]
    },
    {
      "cell_type": "code",
      "source": [],
      "metadata": {
        "id": "YIg3aevkhrcf"
      },
      "execution_count": null,
      "outputs": []
    }
  ]
}