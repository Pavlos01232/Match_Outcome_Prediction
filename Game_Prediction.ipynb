{
  "nbformat": 4,
  "nbformat_minor": 0,
  "metadata": {
    "colab": {
      "provenance": [],
      "authorship_tag": "ABX9TyOw5XRBaXhzi/Wy8KzhX2oH",
      "include_colab_link": true
    },
    "kernelspec": {
      "name": "python3",
      "display_name": "Python 3"
    },
    "language_info": {
      "name": "python"
    }
  },
  "cells": [
    {
      "cell_type": "markdown",
      "metadata": {
        "id": "view-in-github",
        "colab_type": "text"
      },
      "source": [
        "<a href=\"https://colab.research.google.com/github/Pavlos01232/Match_Outcome_Prediction/blob/main/Game_Prediction.ipynb\" target=\"_parent\"><img src=\"https://colab.research.google.com/assets/colab-badge.svg\" alt=\"Open In Colab\"/></a>"
      ]
    },
    {
      "cell_type": "code",
      "execution_count": null,
      "metadata": {
        "colab": {
          "base_uri": "https://localhost:8080/"
        },
        "id": "QzVKKLMBRPxZ",
        "outputId": "f3491587-b26e-44b4-ad10-aa0e718bb403"
      },
      "outputs": [
        {
          "output_type": "stream",
          "name": "stdout",
          "text": [
            "beep boop\n",
            "Aston Villa loses\n",
            "=============================================================\n",
            "    Div,Date,HomeTeam,AwayTeam,FTHG,FTAG,FTR,HTHG,HTAG,HTR,Referee,HS,AS,HST,AST,HF,AF,HC,AC,HY,AY,HR,AR,B365H,B365D,B365A,BWH,BWD,BWA,GBH,GBD,GBA,IWH,IWD,IWA,LBH,LBD,LBA,SBH,SBD,SBA,WHH,WHD,WHA,SJH,SJD,SJA,VCH,VCD,VCA,Bb1X2,BbMxH,BbAvH,BbMxD,BbAvD,BbMxA,BbAvA,BbOU,BbMx>2.5,BbAv>2.5,BbMx<2.5,BbAv<2.5,BbAH,BbAHh,BbMxAHH,BbAvAHH,BbMxAHA,BbAvAHA  \\\n",
            "0    \\nE0,13/08/05,Aston Villa,Bolton,2,2,D,2,2,D,M...                                                                                                                                                                                                                                                                                                     \n",
            "1    \\nE0,13/08/05,Everton,Man United,0,2,A,0,1,A,G...                                                                                                                                                                                                                                                                                                     \n",
            "2    \\nE0,13/08/05,Fulham,Birmingham,0,0,D,0,0,D,R ...                                                                                                                                                                                                                                                                                                     \n",
            "3    \\nE0,13/08/05,Man City,West Brom,0,0,D,0,0,D,C...                                                                                                                                                                                                                                                                                                     \n",
            "4    \\nE0,13/08/05,Middlesbrough,Liverpool,0,0,D,0,...                                                                                                                                                                                                                                                                                                     \n",
            "..                                                 ...                                                                                                                                                                                                                                                                                                     \n",
            "376  \\nE0,07/05/06,Man United,Charlton,4,0,H,3,0,H,...                                                                                                                                                                                                                                                                                                     \n",
            "377  \\nE0,07/05/06,Newcastle,Chelsea,1,0,H,0,0,D,M ...                                                                                                                                                                                                                                                                                                     \n",
            "378  \\nE0,07/05/06,Portsmouth,Liverpool,1,3,A,0,0,D...                                                                                                                                                                                                                                                                                                     \n",
            "379  \\nE0,07/05/06,West Ham,Tottenham,2,1,H,1,1,D,C...                                                                                                                                                                                                                                                                                                     \n",
            "380                                                 \\n                                                                                                                                                                                                                                                                                                     \n",
            "\n",
            "                                                     5  \n",
            "0    \\nE0,13/08/05,Aston Villa,Bolton,2,2,D,2,2,D,M...  \n",
            "1    \\nE0,13/08/05,Everton,Man United,0,2,A,0,1,A,G...  \n",
            "2    \\nE0,13/08/05,Fulham,Birmingham,0,0,D,0,0,D,R ...  \n",
            "3    \\nE0,13/08/05,Man City,West Brom,0,0,D,0,0,D,C...  \n",
            "4    \\nE0,13/08/05,Middlesbrough,Liverpool,0,0,D,0,...  \n",
            "..                                                 ...  \n",
            "376  \\nE0,07/05/06,Man United,Charlton,4,0,H,3,0,H,...  \n",
            "377  \\nE0,07/05/06,Newcastle,Chelsea,1,0,H,0,0,D,M ...  \n",
            "378  \\nE0,07/05/06,Portsmouth,Liverpool,1,3,A,0,0,D...  \n",
            "379  \\nE0,07/05/06,West Ham,Tottenham,2,1,H,1,1,D,C...  \n",
            "380                                                 \\n  \n",
            "\n",
            "[381 rows x 2 columns]\n",
            "=============================================================\n",
            "tensor(5)\n"
          ]
        },
        {
          "output_type": "execute_result",
          "data": {
            "text/plain": [
              "0.0"
            ]
          },
          "metadata": {},
          "execution_count": 78
        }
      ],
      "source": [
        "\n",
        "import torch as t\n",
        "import torch.nn as n\n",
        "import pandas as pd\n",
        "import os\n",
        "\n",
        "print(\"beep boop\")\n",
        "print(\"Aston Villa loses\")\n",
        "print(\"=============================================================\")\n",
        "#GITHUB LOCATION:\n",
        "#https://github.com/Pavlos01232/Match_Outcome_Prediction\n",
        "#\n",
        "#\n",
        "#\n",
        "#\n",
        "#\n",
        "#\n",
        "#\n",
        "\n",
        "\n",
        "\n",
        "\n",
        "#pd.read_csv('https://raw.githubusercontent.com/Pavlos01232/Match_Outcome_Prediction/main/TRAINING%20DATA/PL0304.csv?raw=true')\n",
        "\n",
        "\n",
        "#\"DEEP learning\" just means \"hidden\" layers\n",
        "\n",
        "\n",
        "\n",
        "#read function\n",
        "#df = pd.read_csv('https://raw.githubusercontent.com/Pavlos01232/Match_Outcome_Prediction/main/TRAINING%20DATA/PL0405.csv?raw=true',sep='\\t', lineterminator='\\r')\n",
        "#print(df)\n",
        "\n",
        "first = \"https://raw.githubusercontent.com/Pavlos01232/Match_Outcome_Prediction/main/TRAINING%20DATA/PL\"\n",
        "last = \".csv?raw=true\"\n",
        "\n",
        "\n",
        "#3 to 23\n",
        "#the first two files in the training data are formatted incorrectly\n",
        "#convert csv to dataframe\n",
        "i=5\n",
        "for i in range(5, 6):\n",
        "  result = first + str('{:02.0f}'.format(i)) + str('{:02.0f}'.format(i+1)) + last\n",
        "  #print(result)\n",
        "  df[i] = pd.read_csv(result, sep='\\t', encoding = 'unicode_escape', lineterminator='\\r')\n",
        "  #tensor = t.tensor(df.values)\n",
        "  #print(tensor)\n",
        "  #df_to_tensor(pd.read_csv(result, sep='\\t', encoding = 'unicode_escape', lineterminator='\\r'))\n",
        "\n",
        "print (df)\n",
        "df.to_csv(r'C:\\Users\\Pavlos\\Desktop\\export_dataframe.csv', sep='\\t', encoding='utf-8')\n",
        "#print (df[2])\n",
        "\n",
        "\n",
        "\n",
        "\n",
        "#file_list = os.listdir('https://raw.githubusercontent.com/Pavlos01232/Match_Outcome_Prediction/main/TRAINING%20DATA/')\n",
        "\n",
        "\n",
        "\n",
        "\n",
        "\n",
        "print(\"=============================================================\")\n",
        "\n",
        "i=5\n",
        "\n",
        "stats=t.tensor(i)\n",
        "\n",
        "#stats[0]=5\n",
        "#stats[1]=2\n",
        "#stats[2]=8\n",
        "#stats[3]=4\n",
        "#stats[4]=8\n",
        "#stats[5]=3\n",
        "\n",
        "print(stats)\n",
        "\n",
        "t.cuda.memory_allocated(0)/1024**3"
      ]
    },
    {
      "cell_type": "code",
      "source": [],
      "metadata": {
        "id": "YIg3aevkhrcf"
      },
      "execution_count": null,
      "outputs": []
    }
  ]
}