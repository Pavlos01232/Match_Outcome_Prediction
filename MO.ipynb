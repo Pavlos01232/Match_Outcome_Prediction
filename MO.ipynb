{
  "nbformat": 4,
  "nbformat_minor": 0,
  "metadata": {
    "colab": {
      "provenance": [],
      "authorship_tag": "ABX9TyO1jqUBLb0nD5THH+rSg5Tr",
      "include_colab_link": true
    },
    "kernelspec": {
      "name": "python3",
      "display_name": "Python 3"
    },
    "language_info": {
      "name": "python"
    }
  },
  "cells": [
    {
      "cell_type": "markdown",
      "metadata": {
        "id": "view-in-github",
        "colab_type": "text"
      },
      "source": [
        "<a href=\"https://colab.research.google.com/github/Pavlos01232/Match_Outcome_Prediction/blob/main/MO.ipynb\" target=\"_parent\"><img src=\"https://colab.research.google.com/assets/colab-badge.svg\" alt=\"Open In Colab\"/></a>"
      ]
    },
    {
      "cell_type": "markdown",
      "source": [
        "Introduction:\n",
        "=====================\n",
        "In this project we dive into the world of sports analytics. Specifally football matches. Our aim is to predict how many goals Team A scores against Team B utilizing data and preivious match statistics for mutliple teams.\n",
        "\n",
        "We will use neural networks and machine learning techniques to analyze each team's historical match data. Some hisotical match data that we are going to be using is are shots on target, red cards, goals etc. Using these techniques we can make informed predicitons about future matches and try to predicit the final score between 2 teams.\n",
        "\n",
        "Plan to test the model:\n",
        "======================\n",
        "\n",
        "Eventually need to train this on some data frames and then\n",
        "calculate the cross entropy loss on an *unseen* frame.\n",
        "This might involve putting in a feature to save the weight arrays a,b,c to a file.\n",
        "To read the cross entropy loss on an unseen data set after\n",
        "reading them in,  this very program would work,  with\n",
        "eta=0 and tau=0.\n",
        "\n",
        "As it works now:\n",
        "================\n",
        "\n",
        "Training with eta = tau = 0   -- or just looking at the cross-entropy\n",
        "loss before trainig will give minus the log of the\n",
        "the max likelihood of the bookies' estimates\n",
        "\n",
        "\n",
        "\n",
        "Training with eta not zero but tau =0 and looking at the cross-entropy\n",
        "loss will give minus the log of the max likelihood for the 1980's models\n",
        "\n",
        "\n",
        "\n",
        "Training with eta not zero and tau a (much smaller) nonzero number, now\n",
        "the cross-entropy loss will show how much an extra neural stage on the\n",
        "back can improve on ordinary max likelihood.\n",
        "\n",
        "\n",
        "\n",
        "Historic Bookies Estimate:\n",
        "==========================\n",
        "\n",
        "The historic bookies estimate for goals landed by team i against team j is\n",
        "\n",
        "a_i b_j\n",
        "\n",
        "where\n",
        "\n",
        "a_i = A_i C^{-1/2}\n",
        "b_j = B_j C^{-1/2}\n",
        "\n",
        "A_i = goals landed per game by team i\n",
        "B_j = goals conceded per game by team j\n",
        "C   = average goals per game of all teams\n",
        "\n",
        "\n",
        "The historic 1980's max likelihood models\n",
        "=========================================\n",
        "\n",
        "Starting with Maher, the 1980's max likelihood model starts with this guess and\n",
        "perfects it by max likelihood, when team i lands k goals agaist team j\n",
        "loss was minus the log of the predicted probability by Poisson\n",
        "\n",
        "- log ( e^{-a_ib_j}(a_ib_j)^k /k!)\n",
        "\n",
        "\n",
        "A gitgub user said chi squared shows HST,AST,HR,AR have a significant effect\n",
        "\n",
        "HST = home shots on target\n",
        "AST = away shots on target\n",
        "HR  = home red cards\n",
        "AR  = away red cards\n",
        "\n",
        "\n",
        "New Cross-entropy AI model with a neural layer\n",
        "==========================================\n",
        "\n",
        "Since gradient descent generalizes max likelihood we can replace a_ib_j by\n",
        "\n",
        "a_i b_j  +  c_0 sigma ( c_1 HST + c_2 HR ) b_j\n",
        "\n",
        "when i is the home team and\n",
        "\n",
        "a_i b_j  +  c_0 sigma ( c_1 AST + c_2 AR ) b_j\n",
        "\n",
        "when i is the away team, with sigma being the sigmoid function\n",
        "\n",
        "\n",
        "   sigma(x)=softmax(0,x) = e^x/(e^0+e^x) = 1/(1=e^{-x})\n",
        "\n",
        "\n",
        "\n",
        "This puts a *neural layer* behind the standard max likelihood model from the 1980s\n",
        "\n",
        "The weights are now the a_i,  b_i,   and c_i\n",
        "\n",
        "Since the c_i are shared by all teams the training rate for the c_i should be lower\n",
        "\n",
        "As in the model which this generalizes, the training is cross entropy versus the Poisson distribution.\n",
        "\n",
        "\n",
        "A comment about the way the databases are stored, variables like HST and AST refer to 'home'\n",
        "and 'away' team but we do not make a distinction between home versus away.\n",
        "\n",
        "This means that each row of a data table is interpreted as if it were two rows,\n",
        "one giving information about team i against team j, the other giving information\n",
        "about team j against team i.\n",
        "\n",
        "For instance to calculate the average goals scored by any team over all games\n",
        "each row gives goals scored by a home team and goals scored by an away team\n",
        "and we have to add 2 to total games.\n",
        "\n",
        "That is when we say total games it really means the sum over all teams\n",
        "of the number of games that team played in, which is twice the number\n",
        "of games.\n",
        "\n",
        "That explains the line  totalgames=totalgames+2 each time a row is read in.\n",
        "\n",
        "There is no need to change this architecture to include things causing a home\n",
        "team advantage. This starts with a constant taking the value 1 in the first line\n",
        "\n",
        "loss -=  ...\n",
        "\n",
        "and taking the value 0 in the second line\n",
        "\n",
        "loss -= ..."
      ],
      "metadata": {
        "id": "L__C0Ve38EsZ"
      }
    },
    {
      "cell_type": "markdown",
      "source": [
        "First we start of our code by importing any relavant packages and defining the sigmoid function the takes tensor(x) input and returns a tensor value.\n"
      ],
      "metadata": {
        "id": "xEfijFcSui7A"
      }
    },
    {
      "cell_type": "code",
      "source": [
        "import torch as t\n",
        "import torch.nn as n\n",
        "import pandas as pd\n",
        "import os\n",
        "import math\n",
        "\n",
        "\n",
        "def sigma(x):\n",
        "  return t.exp(x)/(t.exp(t.tensor(0.0))+t.exp(x))\n",
        "\n",
        "t.set_printoptions(precision=10)\n",
        "\n",
        "first = \"https://raw.githubusercontent.com/Pavlos01232/Match_Outcome_Prediction/main/TRAINING%20DATA/PL\"\n",
        "last = \".csv?raw=true\"\n",
        "x = t.tensor(3)\n",
        "\n"
      ],
      "metadata": {
        "colab": {
          "base_uri": "https://localhost:8080/"
        },
        "id": "JmwkvUV2oVkD",
        "outputId": "1b79660c-88ee-4449-a912-2146f84c526c"
      },
      "execution_count": 3,
      "outputs": [
        {
          "output_type": "stream",
          "name": "stdout",
          "text": [
            "tensor(0.9525741339)\n"
          ]
        }
      ]
    },
    {
      "cell_type": "markdown",
      "source": [
        "Data\n",
        "=======================\n",
        "First we need some data to work with, due to our approach we need some data from each teams match history. We will be using this https://raw.githubusercontent.com/Pavlos01232/Match_Outcome_Prediction/main/TRAINING%20DATA/PL0304.csv?raw=true.\n",
        "\n",
        "This table shows football match results and related statistics to do with the game. First lets talk about they keys to the data:\n",
        "*   Div = League Division\n",
        "*   Date = Match Date (dd/mm/yy)\n",
        "*   Time = Time of match kick off\n",
        "*   HomeTeam = Home Team\n",
        "*   AwayTeam = Away Team\n",
        "*   FTHG and HG = Full Time Home Team Goals\n",
        "*   FTAG and AG = Full Time Away Team Goals\n",
        "*   FTR and Res = Full Time Result (H=Home Win, D=Draw, A=Away Win)\n",
        "*   HTHG = Half Time Home Team Goals\n",
        "*   HTAG = Half Time Away Team Goals\n",
        "*   HTR = Half Time Result (H=Home Win, D=Draw, A=Away Win)\n",
        "\n",
        "The table also shows match statistics where its available as some data might be missing however the scale of the data it more likely to not affect the bigger pitcutre or the predicition model.\n",
        "\n",
        "Note that Free Kicks Conceeded includes fouls, offsides and any other offense commmitted and will always be equal to or higher than the number of fouls. Fouls make up the vast majority of Free Kicks Conceded. Free Kicks Conceded are shown when specific data on Fouls are not available (France 2nd, Belgium 1st and Greece 1st divisions).\n",
        "\n",
        "Note also that English and Scottish yellow cards do not include the initial yellow card when a second is shown to a player converting it into a red, but this is included as a yellow (plus red) for European games.\n",
        "\n",
        "\n",
        "*   Attendance = Crowd Attendance\n",
        "*   Referee = Match Referee\n",
        "*   HS = Home Team Shots\n",
        "*   HST = Home Team Shots on Target\n",
        "*   AST = Away Team Shots on Target\n",
        "*   HHW = Home Team Hit Woodwork\n",
        "*   AHW = Away Team Hit Woodwork\n",
        "*   HC = Home Team Corners\n",
        "*   AC = Away Team Corners\n",
        "*   HF = Home Team Fouls Committed\n",
        "*   AF = Away Team Fouls Committed\n",
        "*   HFKC = Home Team Free Kicks Conceded\n",
        "*   AFKC = Away Team Free Kicks Conceded\n",
        "*   HO = Home Team Offsides\n",
        "*   AO = Away Team Offsides\n",
        "*   HY = Home Team Yellow Cards\n",
        "*   AY = Away Team Yellow Cards\n",
        "*   HR = Home Team Red Cards\n",
        "*   AR = Away Team Red Cards\n",
        "*   HBP = Home Team Bookings Points (10 = yellow, 25 = red)\n",
        "*   ABP = Away Team Bookings Points (10 = yellow, 25 = red)\n",
        "\n",
        "\n",
        "The table also includes some betting odds keys that we wont dive into.\n",
        "\n",
        "\n",
        "\n",
        "\n",
        "\n",
        "\n",
        "\n",
        "\n",
        "\n",
        "\n",
        "\n",
        "\n",
        "\n",
        "\n",
        "\n",
        "\n",
        "\n",
        "\n",
        "\n",
        "\n",
        "\n",
        "\n",
        "\n",
        "\n",
        "\n",
        "\n",
        "\n",
        "\n",
        "\n"
      ],
      "metadata": {
        "id": "2493UwvYGdlB"
      }
    },
    {
      "cell_type": "markdown",
      "source": [
        "Data Frame Column Selection and Combination Utility\n",
        "=================================\n",
        "In this cell we create a function called combine that takes inputs dataFrames and columnNames. The function extracts columns from each data frame and combines it into a list. The reason for this is to create a consolidated dataset so its easier to extract and work with.\n"
      ],
      "metadata": {
        "id": "tvVZUrblohg5"
      }
    },
    {
      "cell_type": "code",
      "execution_count": null,
      "metadata": {
        "id": "u2m59SBf70Id"
      },
      "outputs": [],
      "source": [
        "\n",
        "def combine(dataFrames,columnNames):\n",
        " t=[]\n",
        " for i in range(0,len(dataFrames)):\n",
        "    theseColumns=dataFrames[i].columns.values[0].split(\",\")\n",
        "    for j in range(0 ,len(dataFrames[i])):\n",
        "      row=dataFrames[i].values[j][0].split(\",\")\n",
        "      newEntry=[]\n",
        "      for k in range(0, len(columnNames)):\n",
        "         for m in range(0, len(theseColumns)):\n",
        "             if(columnNames[k]==theseColumns[m] and m<=len(row)):\n",
        "                newEntry.append(row[m])\n",
        "      t.append(newEntry)\n",
        " return t\n",
        "\n",
        "\n"
      ]
    },
    {
      "cell_type": "markdown",
      "source": [
        "\n",
        "can read years 3 to 23, 13, there's something wrong with 14\n",
        "since the first two files in the training data are formatted incorrectly\n",
        "converts csv to dataframe\n",
        "\n",
        "This code reads CSV files defined from the URL defined above and converts into pandas dataframes.\n",
        "\n",
        "Something wrong with the data?"
      ],
      "metadata": {
        "id": "jAqtA1zKxsW-"
      }
    },
    {
      "cell_type": "code",
      "source": [
        "df=[] #Data frame\n",
        "\n",
        "for i in range(3, 6):\n",
        "  result = first + str('{:02.0f}'.format(i)) + str('{:02.0f}'.format(i+1)) + last\n",
        "  x = pd.read_csv(result, sep='\\t', encoding = 'unicode_escape', lineterminator='\\r')\n",
        "  df.append(x)\n",
        "\n",
        "\n"
      ],
      "metadata": {
        "id": "F0Payrfux95P"
      },
      "execution_count": null,
      "outputs": []
    },
    {
      "cell_type": "markdown",
      "source": [
        "Get an array with each (home) team listed once\n",
        "from an array of data frames with column \"HomeTeam\""
      ],
      "metadata": {
        "id": "OI7s2xWk0P3U"
      }
    },
    {
      "cell_type": "code",
      "source": [
        "def getTeams(df):\n",
        " teams=[]\n",
        " homeTeams=combine(df,[\"HomeTeam\"])\n",
        " for i in range(len(homeTeams)):\n",
        "  if(len(homeTeams[i])>0):\n",
        "   found=False\n",
        "   for j in range(len(teams)):\n",
        "    if homeTeams[i][0] == teams[j]:\n",
        "      found=True\n",
        "      break\n",
        "   if found:\n",
        "    continue\n",
        "   teams.append(homeTeams[i][0])\n",
        " return teams\n"
      ],
      "metadata": {
        "id": "tL6XrrpB0P89"
      },
      "execution_count": null,
      "outputs": []
    }
  ]
}